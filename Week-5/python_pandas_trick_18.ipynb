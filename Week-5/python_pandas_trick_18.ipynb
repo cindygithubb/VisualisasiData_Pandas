{
 "cells": [
  {
   "cell_type": "markdown",
   "id": "2c5ffd7a",
   "metadata": {},
   "source": [
    "# 18: Membentuk dummy Data Frame"
   ]
  },
  {
   "cell_type": "markdown",
   "id": "f649a574",
   "metadata": {
    "slideshow": {
     "slide_type": "subslide"
    }
   },
   "source": [
    "Cindy Amelia Saputra - 2273011"
   ]
  },
  {
   "cell_type": "markdown",
   "id": "0b2bf8f5",
   "metadata": {
    "slideshow": {
     "slide_type": "subslide"
    }
   },
   "source": [
    "Import Modules"
   ]
  },
  {
   "cell_type": "code",
   "execution_count": null,
   "id": "6f06da9d",
   "metadata": {},
   "outputs": [],
   "source": [
    "import pandas as pd\n",
    "import numpy as np\n",
    "\n",
    "print(pd.__version__)\n",
    "print(np.__version__)"
   ]
  },
  {
   "cell_type": "markdown",
   "id": "aa53fba7",
   "metadata": {
    "slideshow": {
     "slide_type": "subslide"
    }
   },
   "source": [
    "Membentuk Data Frame dari Dictionary"
   ]
  },
  {
   "cell_type": "code",
   "execution_count": null,
   "id": "655029e9",
   "metadata": {},
   "outputs": [],
   "source": [
    "pd.DataFrame({'col1':[1, 2, 3, 4], \n",
    "              'col2':[5, 6, 7, 8]})"
   ]
  },
  {
   "cell_type": "markdown",
   "id": "cc0e3630",
   "metadata": {
    "slideshow": {
     "slide_type": "subslide"
    }
   },
   "source": [
    "Membentuk Data Frame dari Numpy Array"
   ]
  },
  {
   "cell_type": "code",
   "execution_count": null,
   "id": "5ff535f1",
   "metadata": {},
   "outputs": [],
   "source": [
    "n_rows = 5\n",
    "n_cols = 3\n",
    "\n",
    "arr = np.random.randint(1, 20, size=(n_rows, n_cols))\n",
    "arr"
   ]
  },
  {
   "cell_type": "code",
   "execution_count": null,
   "id": "04e4fa60",
   "metadata": {},
   "outputs": [],
   "source": [
    "pd.DataFrame(arr, columns=tuple('ABC'))"
   ]
  },
  {
   "cell_type": "markdown",
   "id": "1f016181",
   "metadata": {
    "slideshow": {
     "slide_type": "subslide"
    }
   },
   "source": [
    "Membentuk Data Frame dengan memanfaatkan pandas.util.testing"
   ]
  },
  {
   "cell_type": "code",
   "execution_count": null,
   "id": "a7d02db1",
   "metadata": {},
   "outputs": [],
   "source": [
    "pd.util.testing.makeDataFrame().head()"
   ]
  },
  {
   "cell_type": "code",
   "execution_count": null,
   "id": "365f414d",
   "metadata": {},
   "outputs": [],
   "source": [
    "pd.util.testing.makeMixedDataFrame().head()"
   ]
  },
  {
   "cell_type": "code",
   "execution_count": null,
   "id": "c48bfe5f",
   "metadata": {},
   "outputs": [],
   "source": [
    "pd.util.testing.makeTimeDataFrame().head()"
   ]
  },
  {
   "cell_type": "code",
   "execution_count": null,
   "id": "aee90a22",
   "metadata": {},
   "outputs": [],
   "source": [
    "pd.util.testing.makeMissingDataframe().head()"
   ]
  }
 ],
 "metadata": {
  "celltoolbar": "Slideshow",
  "kernelspec": {
   "display_name": "Python 3 (ipykernel)",
   "language": "python",
   "name": "python3"
  },
  "language_info": {
   "codemirror_mode": {
    "name": "ipython",
    "version": 3
   },
   "file_extension": ".py",
   "mimetype": "text/x-python",
   "name": "python",
   "nbconvert_exporter": "python",
   "pygments_lexer": "ipython3",
   "version": "3.9.13"
  }
 },
 "nbformat": 4,
 "nbformat_minor": 5
}
