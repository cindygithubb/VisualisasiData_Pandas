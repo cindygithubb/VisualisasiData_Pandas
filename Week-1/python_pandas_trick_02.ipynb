{
 "cells": [
  {
   "cell_type": "markdown",
   "id": "f5e18ae5",
   "metadata": {},
   "source": [
    "# 02: Pemilihan baris (rows selection) pada Data Frame"
   ]
  },
  {
   "cell_type": "markdown",
   "id": "ab3dd66f",
   "metadata": {
    "slideshow": {
     "slide_type": "subslide"
    }
   },
   "source": [
    "Cindy Amelia Saputra - 2273011"
   ]
  },
  {
   "cell_type": "markdown",
   "id": "30646811",
   "metadata": {
    "slideshow": {
     "slide_type": "subslide"
    }
   },
   "source": [
    "Import Modules"
   ]
  },
  {
   "cell_type": "code",
   "execution_count": null,
   "id": "ef5dd7cc",
   "metadata": {},
   "outputs": [],
   "source": [
    "import pandas as pd\n",
    "import numpy as np\n",
    "\n",
    "print(pd.__version__)\n",
    "print(np.__version__)"
   ]
  },
  {
   "cell_type": "markdown",
   "id": "ebc9bcec",
   "metadata": {
    "slideshow": {
     "slide_type": "subslide"
    }
   },
   "source": [
    "Persiapan Data Frame"
   ]
  },
  {
   "cell_type": "code",
   "execution_count": null,
   "id": "473c9fcf",
   "metadata": {},
   "outputs": [],
   "source": [
    "n_rows = 10\n",
    "n_cols = 5\n",
    "cols = tuple('ABCDE')\n",
    "\n",
    "df = pd.DataFrame(np.random.randint(1, 5, size=(n_rows, n_cols)), \n",
    "                  columns=cols)\n",
    "df"
   ]
  },
  {
   "cell_type": "markdown",
   "id": "9687252c",
   "metadata": {
    "slideshow": {
     "slide_type": "subslide"
    }
   },
   "source": [
    "Selection dengan operator logika |"
   ]
  },
  {
   "cell_type": "code",
   "execution_count": null,
   "id": "3ca7396f",
   "metadata": {},
   "outputs": [],
   "source": [
    "df[(df['A'] == 1) | (df['A'] == 3)]"
   ]
  },
  {
   "cell_type": "markdown",
   "id": "8bb6aed9",
   "metadata": {
    "slideshow": {
     "slide_type": "subslide"
    }
   },
   "source": [
    "Selection dengan fungsi isin() "
   ]
  },
  {
   "cell_type": "code",
   "execution_count": null,
   "id": "a5385013",
   "metadata": {},
   "outputs": [],
   "source": [
    "df[df['A'].isin([1, 3])]"
   ]
  },
  {
   "cell_type": "markdown",
   "id": "0e459543",
   "metadata": {
    "slideshow": {
     "slide_type": "subslide"
    }
   },
   "source": [
    "Mengenal operator negasi ~"
   ]
  },
  {
   "cell_type": "code",
   "execution_count": null,
   "id": "9795fa8c",
   "metadata": {},
   "outputs": [],
   "source": [
    "df[~df['A'].isin([1, 3])]"
   ]
  }
 ],
 "metadata": {
  "celltoolbar": "Slideshow",
  "kernelspec": {
   "display_name": "Python 3 (ipykernel)",
   "language": "python",
   "name": "python3"
  },
  "language_info": {
   "codemirror_mode": {
    "name": "ipython",
    "version": 3
   },
   "file_extension": ".py",
   "mimetype": "text/x-python",
   "name": "python",
   "nbconvert_exporter": "python",
   "pygments_lexer": "ipython3",
   "version": "3.9.13"
  }
 },
 "nbformat": 4,
 "nbformat_minor": 5
}
