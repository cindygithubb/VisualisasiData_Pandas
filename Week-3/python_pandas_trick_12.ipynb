{
 "cells": [
  {
   "cell_type": "markdown",
   "id": "e1918379",
   "metadata": {},
   "source": [
    "# 12: Membentuk kolom bertipe datetime dari sejumlah kolom lain pada Data Frame"
   ]
  },
  {
   "cell_type": "markdown",
   "id": "749d146e",
   "metadata": {},
   "source": [
    "Cindy Amelia Saputra - 2273011"
   ]
  },
  {
   "cell_type": "markdown",
   "id": "9273fda1",
   "metadata": {
    "slideshow": {
     "slide_type": "subslide"
    }
   },
   "source": [
    "Import Modules"
   ]
  },
  {
   "cell_type": "code",
   "execution_count": null,
   "id": "e7967bc5",
   "metadata": {},
   "outputs": [],
   "source": [
    "import pandas as pd\n",
    "\n",
    "print(pd.__version__)"
   ]
  },
  {
   "cell_type": "markdown",
   "id": "418b6a0e",
   "metadata": {
    "slideshow": {
     "slide_type": "subslide"
    }
   },
   "source": [
    "Persiapan Data Frame"
   ]
  },
  {
   "cell_type": "code",
   "execution_count": null,
   "id": "18091db7",
   "metadata": {},
   "outputs": [],
   "source": [
    "data = {'day':[1, 2, 10 ,25, 12], \n",
    "        'month':[1, 2, 4, 5, 6], \n",
    "        'year':[2000, 2001, 2010, 2015, 2020]}\n",
    "\n",
    "df = pd.DataFrame(data)\n",
    "df"
   ]
  },
  {
   "cell_type": "markdown",
   "id": "49a9483a",
   "metadata": {
    "slideshow": {
     "slide_type": "subslide"
    }
   },
   "source": [
    "Membentuk kolom bertipe datetime"
   ]
  },
  {
   "cell_type": "code",
   "execution_count": null,
   "id": "d143ea2a",
   "metadata": {},
   "outputs": [],
   "source": [
    "df['penaggalan'] = pd.to_datetime(df[['day', 'month', 'year']])\n",
    "df\n",
    "df.dtypes"
   ]
  }
 ],
 "metadata": {
  "celltoolbar": "Slideshow",
  "kernelspec": {
   "display_name": "Python 3 (ipykernel)",
   "language": "python",
   "name": "python3"
  },
  "language_info": {
   "codemirror_mode": {
    "name": "ipython",
    "version": 3
   },
   "file_extension": ".py",
   "mimetype": "text/x-python",
   "name": "python",
   "nbconvert_exporter": "python",
   "pygments_lexer": "ipython3",
   "version": "3.9.13"
  }
 },
 "nbformat": 4,
 "nbformat_minor": 5
}
