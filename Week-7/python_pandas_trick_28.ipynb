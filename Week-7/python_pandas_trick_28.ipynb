{
 "cells": [
  {
   "cell_type": "markdown",
   "id": "4ea0e560",
   "metadata": {},
   "source": [
    "# 28: Mengenal explode dan implode list pada Data Frame"
   ]
  },
  {
   "cell_type": "markdown",
   "id": "e91ce94b",
   "metadata": {
    "slideshow": {
     "slide_type": "subslide"
    }
   },
   "source": [
    "Cindy Amelia Saputra - 2273011"
   ]
  },
  {
   "cell_type": "markdown",
   "id": "4e85a98f",
   "metadata": {
    "slideshow": {
     "slide_type": "subslide"
    }
   },
   "source": [
    "Import Modules"
   ]
  },
  {
   "cell_type": "code",
   "execution_count": null,
   "id": "6e05a92f",
   "metadata": {},
   "outputs": [],
   "source": [
    "import pandas as pd\n",
    "\n",
    "print(pd.__version__)"
   ]
  },
  {
   "cell_type": "markdown",
   "id": "6bd5a069",
   "metadata": {
    "slideshow": {
     "slide_type": "subslide"
    }
   },
   "source": [
    "Persiapan Data Frame"
   ]
  },
  {
   "cell_type": "code",
   "execution_count": null,
   "id": "6b1c4be9",
   "metadata": {},
   "outputs": [],
   "source": [
    "d = {'Team':['DC', 'Marvel'], \n",
    "     'Heroes':[['Batman', 'Superman', 'Wonder Woman', 'Aquaman', 'Green Lantern', 'Shazam'], \n",
    "               ['Iron Man', 'Captain America', 'Ant-Man', 'Black Panther', 'Captain Marvel']]}\n",
    "\n",
    "df = pd.DataFrame(d)\n",
    "df"
   ]
  },
  {
   "cell_type": "markdown",
   "id": "0fad0f9e",
   "metadata": {
    "slideshow": {
     "slide_type": "subslide"
    }
   },
   "source": [
    "Explode"
   ]
  },
  {
   "cell_type": "code",
   "execution_count": null,
   "id": "f398bcac",
   "metadata": {},
   "outputs": [],
   "source": [
    "df1 = df.explode('Heroes')\n",
    "df1"
   ]
  },
  {
   "cell_type": "markdown",
   "id": "6cfee53d",
   "metadata": {
    "slideshow": {
     "slide_type": "subslide"
    }
   },
   "source": [
    "Implode"
   ]
  },
  {
   "cell_type": "code",
   "execution_count": null,
   "id": "a43b8276",
   "metadata": {},
   "outputs": [],
   "source": [
    "d = {'Team':['DC', 'Marvel']}\n",
    "df2 = pd.DataFrame(d)\n",
    "df2"
   ]
  },
  {
   "cell_type": "code",
   "execution_count": null,
   "id": "bc2dec30",
   "metadata": {},
   "outputs": [],
   "source": [
    "df2['Imploded'] = df1.groupby(df1.index)['Heroes'].agg(list)\n",
    "df2"
   ]
  }
 ],
 "metadata": {
  "celltoolbar": "Slideshow",
  "kernelspec": {
   "display_name": "Python 3 (ipykernel)",
   "language": "python",
   "name": "python3"
  },
  "language_info": {
   "codemirror_mode": {
    "name": "ipython",
    "version": 3
   },
   "file_extension": ".py",
   "mimetype": "text/x-python",
   "name": "python",
   "nbconvert_exporter": "python",
   "pygments_lexer": "ipython3",
   "version": "3.9.13"
  }
 },
 "nbformat": 4,
 "nbformat_minor": 5
}
